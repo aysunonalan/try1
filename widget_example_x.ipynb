{
 "cells": [
  {
   "cell_type": "code",
   "execution_count": 4,
   "metadata": {},
   "outputs": [
    {
     "data": {
      "application/vnd.jupyter.widget-view+json": {
       "model_id": "16d239c64a7241009b145e2f96465e82",
       "version_major": 2,
       "version_minor": 0
      },
      "text/plain": [
       "interactive(children=(FloatSlider(value=0.0, description='m', max=2.0, min=-2.0), FloatSlider(value=0.0, descr…"
      ]
     },
     "metadata": {},
     "output_type": "display_data"
    }
   ],
   "source": [
    "%matplotlib inline\n",
    "\n",
    "from ipywidgets import interactive\n",
    "import matplotlib.pyplot as plt\n",
    "import numpy as np\n",
    "\n",
    "def f(m, b):\n",
    "    plt.figure(2)\n",
    "    x = np.linspace(-10, 10, num=1000)\n",
    "    plt.plot(x, m * x + b)\n",
    "    plt.ylim(-5, 5)\n",
    "    plt.show()\n",
    "\n",
    "interactive_plot = interactive(f, m=(-2.0, 2.0), b=(-3, 3, 0.5))\n",
    "output = interactive_plot.children[-1]\n",
    "output.layout.height = '350px'\n",
    "interactive_plot"
   ]
  },
  {
   "cell_type": "code",
   "execution_count": null,
   "metadata": {},
   "outputs": [],
   "source": []
  }
 ],
 "metadata": {
  "kernelspec": {
   "display_name": "Python 3",
   "language": "python",
   "name": "python3"
  },
  "language_info": {
   "codemirror_mode": {
    "name": "ipython",
    "version": 3
   },
   "file_extension": ".py",
   "mimetype": "text/x-python",
   "name": "python",
   "nbconvert_exporter": "python",
   "pygments_lexer": "ipython3",
   "version": "3.7.4"
  },
  "widgets": {
   "application/vnd.jupyter.widget-state+json": {
    "state": {
     "024f0d04a1e446509fce825715b40590": {
      "model_module": "@jupyter-widgets/output",
      "model_module_version": "1.0.0",
      "model_name": "OutputModel",
      "state": {
       "layout": "IPY_MODEL_179221da45ae4becb6dc61152ff01726",
       "outputs": [
        {
         "data": {
          "image/png": "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\n",
          "text/plain": "<Figure size 432x288 with 1 Axes>"
         },
         "metadata": {
          "needs_background": "light"
         },
         "output_type": "display_data"
        }
       ]
      }
     },
     "12ec0cbe3ad542f4b793247a1993c034": {
      "model_module": "@jupyter-widgets/controls",
      "model_module_version": "1.5.0",
      "model_name": "SliderStyleModel",
      "state": {
       "description_width": ""
      }
     },
     "13756749d49d463892d6b94181757ba7": {
      "model_module": "@jupyter-widgets/controls",
      "model_module_version": "1.5.0",
      "model_name": "SliderStyleModel",
      "state": {
       "description_width": ""
      }
     },
     "142f634a41c64d61b8abb2bd16ef4b89": {
      "model_module": "@jupyter-widgets/base",
      "model_module_version": "1.2.0",
      "model_name": "LayoutModel",
      "state": {}
     },
     "15017a77f77246ec8f73774037649c56": {
      "model_module": "@jupyter-widgets/base",
      "model_module_version": "1.2.0",
      "model_name": "LayoutModel",
      "state": {}
     },
     "16d239c64a7241009b145e2f96465e82": {
      "model_module": "@jupyter-widgets/controls",
      "model_module_version": "1.5.0",
      "model_name": "VBoxModel",
      "state": {
       "_dom_classes": [
        "widget-interact"
       ],
       "children": [
        "IPY_MODEL_c1895ac7446c4c0eb3f55983dedc2cf3",
        "IPY_MODEL_f706c0f3f099401ab5574081384da735",
        "IPY_MODEL_8a0048105e38435c9f6dd9a0d1a9d680"
       ],
       "layout": "IPY_MODEL_a774d3f14de848a8896bf599875e388e"
      }
     },
     "179221da45ae4becb6dc61152ff01726": {
      "model_module": "@jupyter-widgets/base",
      "model_module_version": "1.2.0",
      "model_name": "LayoutModel",
      "state": {
       "height": "350px"
      }
     },
     "192528bd4bbb4021b99fc01ce5c7d4d1": {
      "model_module": "@jupyter-widgets/base",
      "model_module_version": "1.2.0",
      "model_name": "LayoutModel",
      "state": {
       "height": "350px"
      }
     },
     "19c6414bb531437da5b5ea99d17c9bfb": {
      "model_module": "@jupyter-widgets/output",
      "model_module_version": "1.0.0",
      "model_name": "OutputModel",
      "state": {
       "layout": "IPY_MODEL_192528bd4bbb4021b99fc01ce5c7d4d1",
       "outputs": [
        {
         "data": {
          "image/png": "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\n",
          "text/plain": "<Figure size 432x288 with 1 Axes>"
         },
         "metadata": {
          "needs_background": "light"
         },
         "output_type": "display_data"
        }
       ]
      }
     },
     "2947bc8902fe4a938c33ba370df85b84": {
      "model_module": "@jupyter-widgets/base",
      "model_module_version": "1.2.0",
      "model_name": "LayoutModel",
      "state": {}
     },
     "2bf6477136af4fb2b5a6fa3f4f8ec7e0": {
      "model_module": "@jupyter-widgets/controls",
      "model_module_version": "1.5.0",
      "model_name": "VBoxModel",
      "state": {
       "_dom_classes": [
        "widget-interact"
       ],
       "children": [
        "IPY_MODEL_da91b906f0434028b063866fc2fdb3e4",
        "IPY_MODEL_5fbb1d2fab2d455696904ee463c791bf",
        "IPY_MODEL_024f0d04a1e446509fce825715b40590"
       ],
       "layout": "IPY_MODEL_d60e35fa78344224b985aa119e405ca3"
      }
     },
     "2ccfd3cf48cd4d6c9ca5ce29a0a4ff96": {
      "model_module": "@jupyter-widgets/controls",
      "model_module_version": "1.5.0",
      "model_name": "SliderStyleModel",
      "state": {
       "description_width": ""
      }
     },
     "2fcd6cab7eea46fdade534299c881739": {
      "model_module": "@jupyter-widgets/base",
      "model_module_version": "1.2.0",
      "model_name": "LayoutModel",
      "state": {}
     },
     "348e6b72f6cf4e249c8606ced8269211": {
      "model_module": "@jupyter-widgets/controls",
      "model_module_version": "1.5.0",
      "model_name": "FloatSliderModel",
      "state": {
       "description": "b",
       "layout": "IPY_MODEL_aaeca6b65edd49d3ab23b60f090ac449",
       "max": 3,
       "min": -3,
       "step": 0.5,
       "style": "IPY_MODEL_9610710358874ffba7cc1475eeda8cbd",
       "value": -1
      }
     },
     "4c43f47da8c44bed968d3039330b6803": {
      "model_module": "@jupyter-widgets/controls",
      "model_module_version": "1.5.0",
      "model_name": "SliderStyleModel",
      "state": {
       "description_width": ""
      }
     },
     "4d5d56eb5e344f6f9a8cf82e9b49916b": {
      "model_module": "@jupyter-widgets/controls",
      "model_module_version": "1.5.0",
      "model_name": "VBoxModel",
      "state": {
       "_dom_classes": [
        "widget-interact"
       ],
       "children": [
        "IPY_MODEL_dfd5fd6d2b8a44deac8f92ac8a1a1d2e",
        "IPY_MODEL_348e6b72f6cf4e249c8606ced8269211",
        "IPY_MODEL_67bfa5e1bdea47a9be12631db08d5f32"
       ],
       "layout": "IPY_MODEL_142f634a41c64d61b8abb2bd16ef4b89"
      }
     },
     "4fba42de3e2147dc97139f92eedc8711": {
      "model_module": "@jupyter-widgets/controls",
      "model_module_version": "1.5.0",
      "model_name": "SliderStyleModel",
      "state": {
       "description_width": ""
      }
     },
     "5fbb1d2fab2d455696904ee463c791bf": {
      "model_module": "@jupyter-widgets/controls",
      "model_module_version": "1.5.0",
      "model_name": "FloatSliderModel",
      "state": {
       "description": "b",
       "layout": "IPY_MODEL_2947bc8902fe4a938c33ba370df85b84",
       "max": 3,
       "min": -3,
       "step": 0.5,
       "style": "IPY_MODEL_70fa510ede4b43e68aab2119989b7a73",
       "value": 1
      }
     },
     "67bfa5e1bdea47a9be12631db08d5f32": {
      "model_module": "@jupyter-widgets/output",
      "model_module_version": "1.0.0",
      "model_name": "OutputModel",
      "state": {
       "layout": "IPY_MODEL_e4d4e9f5138e44b59702005fd99247b2",
       "outputs": [
        {
         "data": {
          "image/png": "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\n",
          "text/plain": "<Figure size 432x288 with 1 Axes>"
         },
         "metadata": {
          "needs_background": "light"
         },
         "output_type": "display_data"
        }
       ]
      }
     },
     "6dac48077e2d408fb0e23b2bb7647486": {
      "model_module": "@jupyter-widgets/base",
      "model_module_version": "1.2.0",
      "model_name": "LayoutModel",
      "state": {
       "height": "350px"
      }
     },
     "70fa510ede4b43e68aab2119989b7a73": {
      "model_module": "@jupyter-widgets/controls",
      "model_module_version": "1.5.0",
      "model_name": "SliderStyleModel",
      "state": {
       "description_width": ""
      }
     },
     "7848a08071c64dc2ac23659c2054be24": {
      "model_module": "@jupyter-widgets/controls",
      "model_module_version": "1.5.0",
      "model_name": "FloatSliderModel",
      "state": {
       "description": "m",
       "layout": "IPY_MODEL_d31ece58e9a24295a52ed427a4081c57",
       "max": 2,
       "min": -2,
       "step": 0.1,
       "style": "IPY_MODEL_d1ba4727d5884f55aa2d50b5d1b5cae0"
      }
     },
     "7f7c3eeb0c4844098fba2ad7c6bd50a6": {
      "model_module": "@jupyter-widgets/controls",
      "model_module_version": "1.5.0",
      "model_name": "VBoxModel",
      "state": {
       "_dom_classes": [
        "widget-interact"
       ],
       "children": [
        "IPY_MODEL_7848a08071c64dc2ac23659c2054be24",
        "IPY_MODEL_9b076acd142948628338fd78083cc46e",
        "IPY_MODEL_19c6414bb531437da5b5ea99d17c9bfb"
       ],
       "layout": "IPY_MODEL_c0179691afc74ee0874971deaba07db0"
      }
     },
     "8a0048105e38435c9f6dd9a0d1a9d680": {
      "model_module": "@jupyter-widgets/output",
      "model_module_version": "1.0.0",
      "model_name": "OutputModel",
      "state": {
       "layout": "IPY_MODEL_6dac48077e2d408fb0e23b2bb7647486",
       "outputs": [
        {
         "data": {
          "image/png": "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\n",
          "text/plain": "<Figure size 432x288 with 1 Axes>"
         },
         "metadata": {
          "needs_background": "light"
         },
         "output_type": "display_data"
        }
       ]
      }
     },
     "9610710358874ffba7cc1475eeda8cbd": {
      "model_module": "@jupyter-widgets/controls",
      "model_module_version": "1.5.0",
      "model_name": "SliderStyleModel",
      "state": {
       "description_width": ""
      }
     },
     "9b076acd142948628338fd78083cc46e": {
      "model_module": "@jupyter-widgets/controls",
      "model_module_version": "1.5.0",
      "model_name": "FloatSliderModel",
      "state": {
       "description": "b",
       "layout": "IPY_MODEL_15017a77f77246ec8f73774037649c56",
       "max": 3,
       "min": -3,
       "step": 0.5,
       "style": "IPY_MODEL_4fba42de3e2147dc97139f92eedc8711"
      }
     },
     "9c293e415f5d400684771389c05c5061": {
      "model_module": "@jupyter-widgets/base",
      "model_module_version": "1.2.0",
      "model_name": "LayoutModel",
      "state": {}
     },
     "9ee4160a46854ba38b11bc90791e303b": {
      "model_module": "@jupyter-widgets/base",
      "model_module_version": "1.2.0",
      "model_name": "LayoutModel",
      "state": {}
     },
     "a774d3f14de848a8896bf599875e388e": {
      "model_module": "@jupyter-widgets/base",
      "model_module_version": "1.2.0",
      "model_name": "LayoutModel",
      "state": {}
     },
     "aaeca6b65edd49d3ab23b60f090ac449": {
      "model_module": "@jupyter-widgets/base",
      "model_module_version": "1.2.0",
      "model_name": "LayoutModel",
      "state": {}
     },
     "c0179691afc74ee0874971deaba07db0": {
      "model_module": "@jupyter-widgets/base",
      "model_module_version": "1.2.0",
      "model_name": "LayoutModel",
      "state": {}
     },
     "c1895ac7446c4c0eb3f55983dedc2cf3": {
      "model_module": "@jupyter-widgets/controls",
      "model_module_version": "1.5.0",
      "model_name": "FloatSliderModel",
      "state": {
       "description": "m",
       "layout": "IPY_MODEL_9ee4160a46854ba38b11bc90791e303b",
       "max": 2,
       "min": -2,
       "step": 0.1,
       "style": "IPY_MODEL_2ccfd3cf48cd4d6c9ca5ce29a0a4ff96",
       "value": 0.7
      }
     },
     "d1ba4727d5884f55aa2d50b5d1b5cae0": {
      "model_module": "@jupyter-widgets/controls",
      "model_module_version": "1.5.0",
      "model_name": "SliderStyleModel",
      "state": {
       "description_width": ""
      }
     },
     "d31ece58e9a24295a52ed427a4081c57": {
      "model_module": "@jupyter-widgets/base",
      "model_module_version": "1.2.0",
      "model_name": "LayoutModel",
      "state": {}
     },
     "d60e35fa78344224b985aa119e405ca3": {
      "model_module": "@jupyter-widgets/base",
      "model_module_version": "1.2.0",
      "model_name": "LayoutModel",
      "state": {}
     },
     "da91b906f0434028b063866fc2fdb3e4": {
      "model_module": "@jupyter-widgets/controls",
      "model_module_version": "1.5.0",
      "model_name": "FloatSliderModel",
      "state": {
       "description": "m",
       "layout": "IPY_MODEL_2fcd6cab7eea46fdade534299c881739",
       "max": 2,
       "min": -2,
       "step": 0.1,
       "style": "IPY_MODEL_4c43f47da8c44bed968d3039330b6803"
      }
     },
     "dfd5fd6d2b8a44deac8f92ac8a1a1d2e": {
      "model_module": "@jupyter-widgets/controls",
      "model_module_version": "1.5.0",
      "model_name": "FloatSliderModel",
      "state": {
       "description": "m",
       "layout": "IPY_MODEL_e2b03b3c4ac24760ba8e1d99f381a3ef",
       "max": 2,
       "min": -2,
       "step": 0.1,
       "style": "IPY_MODEL_12ec0cbe3ad542f4b793247a1993c034",
       "value": -0.7
      }
     },
     "e2b03b3c4ac24760ba8e1d99f381a3ef": {
      "model_module": "@jupyter-widgets/base",
      "model_module_version": "1.2.0",
      "model_name": "LayoutModel",
      "state": {}
     },
     "e4d4e9f5138e44b59702005fd99247b2": {
      "model_module": "@jupyter-widgets/base",
      "model_module_version": "1.2.0",
      "model_name": "LayoutModel",
      "state": {
       "height": "350px"
      }
     },
     "f706c0f3f099401ab5574081384da735": {
      "model_module": "@jupyter-widgets/controls",
      "model_module_version": "1.5.0",
      "model_name": "FloatSliderModel",
      "state": {
       "description": "b",
       "layout": "IPY_MODEL_9c293e415f5d400684771389c05c5061",
       "max": 3,
       "min": -3,
       "step": 0.5,
       "style": "IPY_MODEL_13756749d49d463892d6b94181757ba7"
      }
     }
    },
    "version_major": 2,
    "version_minor": 0
   }
  }
 },
 "nbformat": 4,
 "nbformat_minor": 4
}
